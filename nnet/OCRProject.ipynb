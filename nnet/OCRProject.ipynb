{
 "cells": [
  {
   "cell_type": "markdown",
   "metadata": {
    "collapsed": true
   },
   "source": [
    "<h1 align='center' style=\"margin-bottom: 0px\"> An end to end implementation of a Optical Character Recognition(OCR) </h1>\n",
    "<h4 align='center' style=\"margin-top: 0px\"> Hyungsuk Kang</h4>\n",
    "<h4 align='center' style=\"margin-top: 0px\"> Computer Science and Engineering, Sungkyunkwan University</h4>\n",
    "<h4 align='center' style=\"margin-top: 0px\"> Unemployed</h4>"
   ]
  },
  {
   "cell_type": "markdown",
   "metadata": {},
   "source": [
    "> 위 듀토리얼은 [Spandan-Madan](https://github.com/Spandan-Madan)의 Deeplearning Project를 참고하여 한국어 버전으로 만들어본 것입니다.\n"
   ]
  },
  {
   "cell_type": "markdown",
   "metadata": {},
   "source": [
    "<h2 align='center' style=\"margin-top: 0px\"><a href='https://github.com/Spandan-Madan/DeepLearningProject'>Link to Github Repo</a></h2>"
   ]
  },
  {
   "cell_type": "markdown",
   "metadata": {},
   "source": [
    "# Section 1. 서론\n",
    "\n",
    "### 이 글을 쓴 계기\n",
    "2015년 말부터 opencv를 공부하는 도중에 왜 haarcascade classifier로 물체는 인식할 수 있었으나 글자마다 저 classifier를 만들어야 하는 것에 답답했던 나는 CNN을 이용한 문자인식을 사용해보고 싶었었다. 데이터셋을 기다리면서 계속 이미지 프로세싱과 ML/DL을 공부하고 있었는데 마침 Stanford Artificial Intelligence Labortory(SAIL)에서 제공한 데이터셋을 찾게 되었고 이를 통해 인공지능을 훈련시킨 결과를 공유하고자 한다.\n",
    "\n",
    "\n",
    "\n",
    "### 왜 이 튜토리얼을 썼는가?\n",
    "전에 엮은 [Spandan-Madan](https://github.com/Spandan-Madan)의 생각처럼 그저 *10분 만에 끝내는 텐서플로우 MNIST*라던가 *15분만에 끝내는 인공신경망 튜토리얼*로 코드를 복붙하면서 분석의 한 파트만 끝내는 것이 아닌 실제 데이터를 분석함으로써 생기는 일련의 과정들을 보여주기 위해서 위 튜토리얼을 제작했습니다.\n",
    "\n",
    "### 저자 소개\n",
    "\n",
    "제 이름은 <a href=\"https://www.linkedin.com/in/hyungsuk-kang-5217a7103/\">강형석</a>입니다, 성균관대학교 컴퓨터공학과에 다니고 전에는 [IoT에 관한 연구](http://ieeexplore.ieee.org/document/7763534/)를 한 적이 있었으나 지금은 인공지능을 이용한 smart IoT device를 만드는데 관심이 많습니다. 현재 휴학한 뒤 Udacity Robotics Nanodegree에 다니고 있습니다."
   ]
  },
  {
   "cell_type": "markdown",
   "metadata": {},
   "source": [
    "# Section 2. Project Outline : Optical Character Recognition"
   ]
  },
  {
   "cell_type": "markdown",
   "metadata": {},
   "source": [
    "### OCR이 뭔가요?\n",
    "\n",
    "### 위키피디아에 의하면\n",
    "> **광학 문자 인식(Optical character recognition; OCR)은 사람이 쓰거나 기계로 인쇄한 문자의 영상을 이미지 스캐너로 획득하여 기계가 읽을 수 있는 문자로 변환하는 것이다. 이미지 스캔으로 얻을 수 있는 문서의 활자 영상을 컴퓨터가 편집 가능한 문자코드 등의 형식으로 변환하는 소프트웨어로써 일반적으로 OCR이라고 하며, OCR은 인공지능이나 기계 시각(machine vision)의 연구분야로 시작되었다.** 거울이나 렌즈 등의 광학 기술을 이용한 광학 문자 인식과 스캐너 및 알고리즘에 의한 디지털 문자 인식은 다른 영역으로 생각되었으나 이제는 광학 문자 인식이라는 말이 디지털 문자 인식을 포함하는 것으로 간주되었다.\n",
    "\n",
    "\n",
    "### 좀 더 간략히 하면\n",
    "\n",
    "인풋: 글자(카메라에 찍히는)\n",
    "![인풋](https://encrypted-tbn0.gstatic.com/images?q=tbn:ANd9GcT5m130Nzqe0gHH9E0FY8mZSXEDjFeFZfrSqMH1lxIjYc43_AXD)\n",
    "\n",
    "아웃풋: 글자(컴퓨터에 적히거나 쓰는)\n",
    "\n",
    "# o\n",
    "\n",
    "#### 주어진 데이터:\n",
    "- 2차원 또는 5차원 텐서 이미지 data point $x_i$ \n",
    "- $x_i$에 해당하는 알파벳 글자 $y_1,y_2...y_n $ (n=26)  <br>\n",
    "\n",
    "#### 할 일 : \n",
    "주어진 데이터셋에 포함하지 않는 data point $x_k$에 대한 알맞은 $y_k$를 예측하는 것.\n",
    "\n",
    "#### 문제점 : \n",
    "$x$ 와 $y$가 어떻게 관련되어 있는지 알 수가 없다.\n",
    "\n",
    "#### 가정 : \n",
    "그럼에도 불구하고 $x$와 $y$ 에 관련된 함수 $f$가 있다고 가정한다. i.e. ( $f(x_i)=y_i$)\n",
    "\n",
    "#### 접근 방법 : \n",
    "함수 $f$를 알지 못하므로, 우리는 함수 $f$에 근접한 $g$를 배우게 한다.\n",
    "\n",
    "#### 고려사항 : \n",
    "- 만약 모든 $x_i$에 대하여 $f(x_i)=g(x_i)=y_i$이 성립한다면, 함수 $f$와 $g$는 완벽하게 일치한다. 이건 절대로 불가능할 것이며 우리는 함수 $g$를 이용해 $f$에 가까워질 뿐이다. 즉, 예측인 $g(x_i)$이 종종 참이 아닐 수도 있다. 그리고 기본적으로 목표는 이러한 오류를 **매우** 낮게 만드는 것이다.\n",
    "\n",
    "- 여러가지 접근 방법이 있지만 완벽한 방법으로서는 \"지도 학습\"을 도입한다. 또한 함수 $g$가 $f$에 가까워짐으로서 데이터셋에 포함되지 않은 데이터 마저 예측하는 것을 **\"일반화\"**라고 한다. 이 모델로써 중요한 점은 주어진 데이터셋도 맞계 예측할 수 있을 뿐만이 아니라 **다른 데이터**들도 예측할 수 있다는 것이다.\n",
    "\n",
    "- 일반화에 관한 건 이 튜토리얼 뒷부분에서 다루기로 한다.\n"
   ]
  },
  {
   "cell_type": "markdown",
   "metadata": {},
   "source": [
    "# 이 프로젝트에서는 이미지 데이터를 사용하여 알파벳 글자를 인식해냅니다."
   ]
  },
  {
   "cell_type": "markdown",
   "metadata": {},
   "source": [
    "# Project Outline\n",
    "\n",
    "- **데이터 스크레이핑** : 데이터를 받아와서 골라내는 게 데이터 분석의 시작입니다. 데이터는 [SAIL이 제작한 OCR 데이터셋](http://ai.stanford.edu/~btaskar/ocr/)을 이용\n",
    "- **데이터 전처리**\n",
    "- **train test 데이터 나누기**\n",
    "- **CNN**\n",
    "- **모델 평가하기** \n",
    "- **모바일 환경에 모델 올리기**\n",
    "- **후 계획**\n"
   ]
  },
  {
   "cell_type": "markdown",
   "metadata": {},
   "source": [
    "# Section 3. 나만의 데이터셋 만들기\n"
   ]
  },
  {
   "cell_type": "markdown",
   "metadata": {},
   "source": [
    "# 데이터 스크레이핑"
   ]
  },
  {
   "cell_type": "markdown",
   "metadata": {},
   "source": [
    "이 프로젝트는 Stanford Artificial Intelligence Labortory에서 제공하는 [OCR 데이터셋](http://ai.stanford.edu/~btaskar/ocr/)을 사용합니다."
   ]
  },
  {
   "cell_type": "markdown",
   "metadata": {},
   "source": [
    "# 하는 방법"
   ]
  },
  {
   "cell_type": "markdown",
   "metadata": {},
   "source": [
    "- 열과 행에 해당하는 letter.names, letter.data.gz 파일들을 다운로드한다.\n",
    "- 열과 행을 pandas로 이용하여 DataFrame으로 만든다.\n",
    "- 열들을 모아서 이미지로 만든 다음 배열로 만든다."
   ]
  },
  {
   "cell_type": "code",
   "execution_count": 1,
   "metadata": {},
   "outputs": [
    {
     "name": "stderr",
     "output_type": "stream",
     "text": [
      "Using TensorFlow backend.\n"
     ]
    }
   ],
   "source": [
    "import numpy as np\n",
    "import scipy.ndimage\n",
    "import pandas as pd\n",
    "import matplotlib.pyplot as plt\n",
    "import seaborn as sns\n",
    "%matplotlib inline\n",
    "\n",
    "np.random.seed(2) # seed 값 정하기\n",
    "\n",
    "from sklearn.model_selection import train_test_split\n",
    "from sklearn.metrics import confusion_matrix\n",
    "import itertools\n",
    "\n",
    "\n",
    "import csv\n",
    "from keras.utils.np_utils import to_categorical # convert to one-hot-encoding\n",
    "from keras.models import Sequential\n",
    "from keras.layers import Dense, Dropout, Flatten, Conv2D, MaxPool2D\n",
    "from keras.optimizers import RMSprop\n",
    "from keras.preprocessing.image import ImageDataGenerator\n",
    "from keras.callbacks import ReduceLROnPlateau, TensorBoard\n",
    "\n",
    "\n",
    "sns.set(style='white', context='notebook', palette='deep')"
   ]
  },
  {
   "cell_type": "code",
   "execution_count": 101,
   "metadata": {},
   "outputs": [
    {
     "name": "stdout",
     "output_type": "stream",
     "text": [
      "--2017-08-07 23:36:43--  http://ai.stanford.edu/~btaskar/ocr/letter.data.gz\n",
      "Resolving ai.stanford.edu... 171.64.68.10\n",
      "Connecting to ai.stanford.edu|171.64.68.10|:80... connected.\n",
      "HTTP request sent, awaiting response... 200 OK\n",
      "Length: 1329012 (1.3M) [application/x-gzip]\n",
      "Saving to: ‘letter.data.gz.2’\n",
      "\n",
      "letter.data.gz.2    100%[===================>]   1.27M   219KB/s    in 6.6s    \n",
      "\n",
      "2017-08-07 23:36:50 (197 KB/s) - ‘letter.data.gz.2’ saved [1329012/1329012]\n",
      "\n",
      "tar: Unrecognized archive format\n",
      "tar: Error exit delayed from previous errors.\n",
      "--2017-08-07 23:36:50--  http://ai.stanford.edu/~btaskar/ocr/letter.names\n",
      "Resolving ai.stanford.edu... 171.64.68.10\n",
      "Connecting to ai.stanford.edu|171.64.68.10|:80... connected.\n",
      "HTTP request sent, awaiting response... 200 OK\n",
      "Length: 856 [text/plain]\n",
      "Saving to: ‘letter.names.1’\n",
      "\n",
      "letter.names.1      100%[===================>]     856  --.-KB/s    in 0s      \n",
      "\n",
      "2017-08-07 23:36:51 (37.1 MB/s) - ‘letter.names.1’ saved [856/856]\n",
      "\n"
     ]
    }
   ],
   "source": [
    "# 데이터 다운로드\n",
    "!wget http://ai.stanford.edu/~btaskar/ocr/letter.names\n",
    "!wget http://ai.stanford.edu/~btaskar/ocr/letter.data.gz\n",
    "!tar -xf letter.data.gz\n"
   ]
  },
  {
   "cell_type": "code",
   "execution_count": 2,
   "metadata": {},
   "outputs": [
    {
     "name": "stdout",
     "output_type": "stream",
     "text": [
      "----------------------------------------------------------------\n",
      "rows\n",
      "[['1', 'o', '2', '1', '1', '0', '0', '0', '0', '0', '0', '0', '0', '0', '0', '0', '0', '0', '0', '0', '0', '0', '0', '0', '0', '0', '0', '0', '0', '0', '0', '1', '1', '1', '0', '0', '0', '0', '0', '1', '1', '1', '1', '1', '0', '0', '0', '1', '0', '0', '0', '1', '1', '0', '1', '1', '0', '0', '0', '0', '1', '1', '1', '0', '0', '0', '0', '0', '0', '1', '1', '0', '0', '0', '0', '0', '0', '1', '1', '0', '0', '0', '0', '0', '0', '1', '1', '0', '0', '0', '0', '0', '1', '1', '1', '0', '0', '0', '1', '1', '1', '0', '1', '1', '1', '1', '1', '0', '0', '0', '0', '0', '0', '0', '0', '0', '0', '0', '0', '0', '0', '0', '0', '0', '0', '0', '0', '0', '0', '0', '0', '0', '0', '0'], ['2', 'm', '3', '1', '2', '0', '0', '0', '0', '0', '0', '0', '0', '0', '0', '0', '0', '0', '0', '0', '0', '0', '0', '0', '0', '0', '0', '0', '0', '0', '0', '0', '0', '0', '0', '0', '0', '0', '0', '0', '0', '0', '0', '0', '0', '0', '0', '0', '0', '0', '0', '0', '0', '0', '0', '1', '1', '1', '1', '1', '1', '0', '1', '1', '0', '1', '1', '0', '1', '1', '1', '0', '1', '1', '0', '0', '0', '1', '1', '0', '1', '1', '0', '0', '0', '1', '0', '0', '0', '0', '0', '0', '0', '0', '0', '0', '0', '0', '0', '0', '0', '0', '0', '0', '0', '0', '0', '0', '0', '0', '0', '0', '0', '0', '0', '0', '0', '0', '0', '0', '0', '0', '0', '0', '0', '0', '0', '0', '0', '0', '0', '0', '0', '0'], ['3', 'm', '4', '1', '3', '0', '0', '0', '0', '0', '0', '0', '0', '0', '0', '0', '0', '0', '0', '0', '0', '0', '0', '0', '0', '0', '0', '0', '0', '0', '0', '0', '0', '0', '0', '0', '0', '0', '0', '0', '0', '0', '0', '0', '0', '0', '0', '0', '0', '0', '0', '0', '0', '0', '1', '1', '1', '0', '0', '1', '1', '0', '1', '0', '1', '0', '1', '1', '1', '0', '1', '0', '1', '1', '1', '0', '1', '0', '1', '0', '0', '1', '0', '0', '1', '1', '0', '0', '0', '0', '0', '0', '0', '0', '0', '0', '0', '0', '0', '0', '0', '0', '0', '0', '0', '0', '0', '0', '0', '0', '0', '0', '0', '0', '0', '0', '0', '0', '0', '0', '0', '0', '0', '0', '0', '0', '0', '0', '0', '0', '0', '0', '0', '0'], ['4', 'a', '5', '1', '4', '0', '0', '0', '0', '0', '0', '0', '0', '0', '0', '0', '0', '0', '0', '0', '0', '0', '0', '0', '0', '0', '0', '0', '0', '0', '0', '0', '0', '0', '0', '0', '0', '0', '0', '0', '0', '0', '0', '0', '0', '0', '0', '0', '1', '1', '0', '0', '0', '0', '0', '1', '1', '0', '0', '0', '0', '0', '1', '0', '0', '0', '1', '1', '0', '0', '1', '0', '0', '1', '0', '1', '1', '0', '1', '1', '1', '0', '0', '0', '1', '0', '0', '0', '0', '0', '0', '0', '1', '1', '0', '0', '0', '0', '0', '0', '0', '0', '0', '0', '0', '0', '0', '0', '0', '0', '0', '0', '0', '0', '0', '0', '0', '0', '0', '0', '0', '0', '0', '0', '0', '0', '0', '0', '0', '0', '0', '0', '0', '0'], ['5', 'n', '6', '1', '5', '0', '0', '0', '0', '0', '0', '0', '0', '0', '0', '0', '0', '0', '0', '0', '0', '0', '0', '0', '0', '0', '0', '0', '0', '0', '0', '0', '0', '0', '0', '0', '0', '0', '0', '0', '0', '0', '1', '1', '1', '0', '0', '0', '0', '1', '1', '0', '1', '0', '0', '0', '1', '1', '0', '0', '1', '0', '1', '1', '1', '0', '0', '0', '1', '0', '1', '1', '1', '0', '0', '0', '1', '0', '1', '1', '0', '0', '0', '0', '1', '0', '1', '1', '0', '0', '0', '0', '1', '0', '1', '0', '0', '0', '0', '0', '0', '1', '1', '0', '0', '0', '0', '0', '0', '1', '0', '0', '0', '0', '0', '0', '0', '0', '0', '0', '0', '0', '0', '0', '0', '0', '0', '0', '0', '0', '0', '0', '0', '0']]\n",
      "----------------------------------------------------------------\n",
      "columns\n",
      "['id' 'letter' 'next_id' 'word_id' 'position' 'fold' 'p_0_0' 'p_0_1'\n",
      " 'p_0_2' 'p_0_3' 'p_0_4' 'p_0_5' 'p_0_6' 'p_0_7' 'p_1_0' 'p_1_1' 'p_1_2'\n",
      " 'p_1_3' 'p_1_4' 'p_1_5' 'p_1_6' 'p_1_7' 'p_2_0' 'p_2_1' 'p_2_2' 'p_2_3'\n",
      " 'p_2_4' 'p_2_5' 'p_2_6' 'p_2_7' 'p_3_0' 'p_3_1' 'p_3_2' 'p_3_3' 'p_3_4'\n",
      " 'p_3_5' 'p_3_6' 'p_3_7' 'p_4_0' 'p_4_1' 'p_4_2' 'p_4_3' 'p_4_4' 'p_4_5'\n",
      " 'p_4_6' 'p_4_7' 'p_5_0' 'p_5_1' 'p_5_2' 'p_5_3' 'p_5_4' 'p_5_5' 'p_5_6'\n",
      " 'p_5_7' 'p_6_0' 'p_6_1' 'p_6_2' 'p_6_3' 'p_6_4' 'p_6_5' 'p_6_6' 'p_6_7'\n",
      " 'p_7_0' 'p_7_1' 'p_7_2' 'p_7_3' 'p_7_4' 'p_7_5' 'p_7_6' 'p_7_7' 'p_8_0'\n",
      " 'p_8_1' 'p_8_2' 'p_8_3' 'p_8_4' 'p_8_5' 'p_8_6' 'p_8_7' 'p_9_0' 'p_9_1'\n",
      " 'p_9_2' 'p_9_3' 'p_9_4' 'p_9_5' 'p_9_6' 'p_9_7' 'p_10_0' 'p_10_1' 'p_10_2'\n",
      " 'p_10_3' 'p_10_4' 'p_10_5' 'p_10_6' 'p_10_7' 'p_11_0' 'p_11_1' 'p_11_2'\n",
      " 'p_11_3' 'p_11_4' 'p_11_5' 'p_11_6' 'p_11_7' 'p_12_0' 'p_12_1' 'p_12_2'\n",
      " 'p_12_3' 'p_12_4' 'p_12_5' 'p_12_6' 'p_12_7' 'p_13_0' 'p_13_1' 'p_13_2'\n",
      " 'p_13_3' 'p_13_4' 'p_13_5' 'p_13_6' 'p_13_7' 'p_14_0' 'p_14_1' 'p_14_2'\n",
      " 'p_14_3' 'p_14_4' 'p_14_5' 'p_14_6' 'p_14_7' 'p_15_0' 'p_15_1' 'p_15_2'\n",
      " 'p_15_3' 'p_15_4' 'p_15_5' 'p_15_6' 'p_15_7']\n",
      "----------------------------------------------------------------\n",
      "DataFrame\n",
      "  id letter next_id word_id position fold p_0_0 p_0_1 p_0_2 p_0_3  ...    \\\n",
      "0  1      o       2       1        1    0     0     0     0     0  ...     \n",
      "1  2      m       3       1        2    0     0     0     0     0  ...     \n",
      "2  3      m       4       1        3    0     0     0     0     0  ...     \n",
      "3  4      a       5       1        4    0     0     0     0     0  ...     \n",
      "4  5      n       6       1        5    0     0     0     0     0  ...     \n",
      "\n",
      "  p_14_6 p_14_7 p_15_0 p_15_1 p_15_2 p_15_3 p_15_4 p_15_5 p_15_6 p_15_7  \n",
      "0      0      0      0      0      0      0      0      0      0      0  \n",
      "1      0      0      0      0      0      0      0      0      0      0  \n",
      "2      0      0      0      0      0      0      0      0      0      0  \n",
      "3      0      0      0      0      0      0      0      0      0      0  \n",
      "4      0      0      0      0      0      0      0      0      0      0  \n",
      "\n",
      "[5 rows x 134 columns]\n"
     ]
    }
   ],
   "source": [
    "# DataFrame 만들기\n",
    "r = [x[:-1] for x in csv.reader(open('letter.data','r'),delimiter='\\t')]\n",
    "print '-' *64\n",
    "print 'rows'\n",
    "print r[:5]\n",
    "\n",
    "c = np.array([x for x in csv.reader(open('letter.names','r'),delimiter='\\n')]).ravel()\n",
    "print '-' * 64\n",
    "print 'columns'\n",
    "print c\n",
    "\n",
    "df = pd.DataFrame(r, columns=c)\n",
    "print '-'*64\n",
    "print 'DataFrame'\n",
    "print df.head()\n",
    "\n"
   ]
  },
  {
   "cell_type": "code",
   "execution_count": 3,
   "metadata": {},
   "outputs": [
    {
     "data": {
      "image/png": "[encoded data removed]",
      "text/plain": [
       "<matplotlib.figure.Figure at 0x10a7b1050>"
      ]
     },
     "metadata": {},
     "output_type": "display_data"
    }
   ],
   "source": [
    "# 각 알파벳 분포 \n",
    "df['letter'].value_counts()\n",
    "letters = sns.countplot(df['letter'])"
   ]
  },
  {
   "cell_type": "markdown",
   "metadata": {},
   "source": [
    "# 끝! 이제 데이터를 모두 들여왔다."
   ]
  },
  {
   "cell_type": "markdown",
   "metadata": {},
   "source": [
    "# Section 4. 데이터 전처리\n",
    "\n",
    "X(input):\n",
    "p_0_0 ~ p_15_7 까지의 값을 16x8 행렬로 바꿔준다.\n",
    "이어서 8x16에서 28x28로 부풀리고\n",
    "광각 차로 인한 오류를 줄이기 위해 normalization을 해준다.\n",
    "\n",
    "Y(output):\n",
    "라벨 인코딩 (ex : m -> [ 0,0,0,0,0,0,0,0,0,0,0,0,1,0,0,0,0,0,0,0,0,0,0,0,0,0 ])"
   ]
  },
  {
   "cell_type": "code",
   "execution_count": 4,
   "metadata": {},
   "outputs": [
    {
     "name": "stdout",
     "output_type": "stream",
     "text": [
      "Processed 0 of 52152\n",
      "Processed 250 of 52152\n",
      "Processed 500 of 52152\n",
      "Processed 750 of 52152\n",
      "Processed 1000 of 52152\n",
      "Processed 1250 of 52152\n",
      "Processed 1500 of 52152\n",
      "Processed 1750 of 52152\n",
      "Processed 2000 of 52152\n",
      "Processed 2250 of 52152\n",
      "Processed 2500 of 52152\n",
      "Processed 2750 of 52152\n",
      "Processed 3000 of 52152\n",
      "Processed 3250 of 52152\n",
      "Processed 3500 of 52152\n",
      "Processed 3750 of 52152\n",
      "Processed 4000 of 52152\n",
      "Processed 4250 of 52152\n",
      "Processed 4500 of 52152\n",
      "Processed 4750 of 52152\n",
      "Processed 5000 of 52152\n",
      "Processed 5250 of 52152\n",
      "Processed 5500 of 52152\n",
      "Processed 5750 of 52152\n",
      "Processed 6000 of 52152\n",
      "Processed 6250 of 52152\n",
      "Processed 6500 of 52152\n",
      "Processed 6750 of 52152\n",
      "Processed 7000 of 52152\n",
      "Processed 7250 of 52152\n",
      "Processed 7500 of 52152\n",
      "Processed 7750 of 52152\n",
      "Processed 8000 of 52152\n",
      "Processed 8250 of 52152\n",
      "Processed 8500 of 52152\n",
      "Processed 8750 of 52152\n",
      "Processed 9000 of 52152\n",
      "Processed 9250 of 52152\n",
      "Processed 9500 of 52152\n",
      "Processed 9750 of 52152\n",
      "Processed 10000 of 52152\n",
      "Processed 10250 of 52152\n",
      "Processed 10500 of 52152\n",
      "Processed 10750 of 52152\n",
      "Processed 11000 of 52152\n",
      "Processed 11250 of 52152\n",
      "Processed 11500 of 52152\n",
      "Processed 11750 of 52152\n",
      "Processed 12000 of 52152\n",
      "Processed 12250 of 52152\n",
      "Processed 12500 of 52152\n",
      "Processed 12750 of 52152\n",
      "Processed 13000 of 52152\n",
      "Processed 13250 of 52152\n",
      "Processed 13500 of 52152\n",
      "Processed 13750 of 52152\n",
      "Processed 14000 of 52152\n",
      "Processed 14250 of 52152\n",
      "Processed 14500 of 52152\n",
      "Processed 14750 of 52152\n",
      "Processed 15000 of 52152\n",
      "Processed 15250 of 52152\n",
      "Processed 15500 of 52152\n",
      "Processed 15750 of 52152\n",
      "Processed 16000 of 52152\n",
      "Processed 16250 of 52152\n",
      "Processed 16500 of 52152\n",
      "Processed 16750 of 52152\n",
      "Processed 17000 of 52152\n",
      "Processed 17250 of 52152\n",
      "Processed 17500 of 52152\n",
      "Processed 17750 of 52152\n",
      "Processed 18000 of 52152\n",
      "Processed 18250 of 52152\n",
      "Processed 18500 of 52152\n",
      "Processed 18750 of 52152\n",
      "Processed 19000 of 52152\n",
      "Processed 19250 of 52152\n",
      "Processed 19500 of 52152\n",
      "Processed 19750 of 52152\n",
      "Processed 20000 of 52152\n",
      "Processed 20250 of 52152\n",
      "Processed 20500 of 52152\n",
      "Processed 20750 of 52152\n",
      "Processed 21000 of 52152\n",
      "Processed 21250 of 52152\n",
      "Processed 21500 of 52152\n",
      "Processed 21750 of 52152\n",
      "Processed 22000 of 52152\n",
      "Processed 22250 of 52152\n",
      "Processed 22500 of 52152\n",
      "Processed 22750 of 52152\n",
      "Processed 23000 of 52152\n",
      "Processed 23250 of 52152\n",
      "Processed 23500 of 52152\n",
      "Processed 23750 of 52152\n",
      "Processed 24000 of 52152\n",
      "Processed 24250 of 52152\n",
      "Processed 24500 of 52152\n",
      "Processed 24750 of 52152\n",
      "Processed 25000 of 52152\n",
      "Processed 25250 of 52152\n",
      "Processed 25500 of 52152\n",
      "Processed 25750 of 52152\n",
      "Processed 26000 of 52152\n",
      "Processed 26250 of 52152\n",
      "Processed 26500 of 52152\n",
      "Processed 26750 of 52152\n",
      "Processed 27000 of 52152\n",
      "Processed 27250 of 52152\n",
      "Processed 27500 of 52152\n",
      "Processed 27750 of 52152\n",
      "Processed 28000 of 52152\n",
      "Processed 28250 of 52152\n",
      "Processed 28500 of 52152\n",
      "Processed 28750 of 52152\n",
      "Processed 29000 of 52152\n",
      "Processed 29250 of 52152\n",
      "Processed 29500 of 52152\n",
      "Processed 29750 of 52152\n",
      "Processed 30000 of 52152\n",
      "Processed 30250 of 52152\n",
      "Processed 30500 of 52152\n",
      "Processed 30750 of 52152\n",
      "Processed 31000 of 52152\n",
      "Processed 31250 of 52152\n",
      "Processed 31500 of 52152\n",
      "Processed 31750 of 52152\n",
      "Processed 32000 of 52152\n",
      "Processed 32250 of 52152\n",
      "Processed 32500 of 52152\n",
      "Processed 32750 of 52152\n",
      "Processed 33000 of 52152\n",
      "Processed 33250 of 52152\n",
      "Processed 33500 of 52152\n",
      "Processed 33750 of 52152\n",
      "Processed 34000 of 52152\n",
      "Processed 34250 of 52152\n",
      "Processed 34500 of 52152\n",
      "Processed 34750 of 52152\n",
      "Processed 35000 of 52152\n",
      "Processed 35250 of 52152\n",
      "Processed 35500 of 52152\n",
      "Processed 35750 of 52152\n",
      "Processed 36000 of 52152\n",
      "Processed 36250 of 52152\n",
      "Processed 36500 of 52152\n",
      "Processed 36750 of 52152\n",
      "Processed 37000 of 52152\n",
      "Processed 37250 of 52152\n",
      "Processed 37500 of 52152\n",
      "Processed 37750 of 52152\n",
      "Processed 38000 of 52152\n",
      "Processed 38250 of 52152\n",
      "Processed 38500 of 52152\n",
      "Processed 38750 of 52152\n",
      "Processed 39000 of 52152\n",
      "Processed 39250 of 52152\n",
      "Processed 39500 of 52152\n",
      "Processed 39750 of 52152\n",
      "Processed 40000 of 52152\n",
      "Processed 40250 of 52152\n",
      "Processed 40500 of 52152\n",
      "Processed 40750 of 52152\n",
      "Processed 41000 of 52152\n",
      "Processed 41250 of 52152\n",
      "Processed 41500 of 52152\n",
      "Processed 41750 of 52152\n",
      "Processed 42000 of 52152\n",
      "Processed 42250 of 52152\n",
      "Processed 42500 of 52152\n",
      "Processed 42750 of 52152\n",
      "Processed 43000 of 52152\n",
      "Processed 43250 of 52152\n",
      "Processed 43500 of 52152\n",
      "Processed 43750 of 52152\n",
      "Processed 44000 of 52152\n",
      "Processed 44250 of 52152\n",
      "Processed 44500 of 52152\n",
      "Processed 44750 of 52152\n",
      "Processed 45000 of 52152\n",
      "Processed 45250 of 52152\n",
      "Processed 45500 of 52152\n",
      "Processed 45750 of 52152\n",
      "Processed 46000 of 52152\n",
      "Processed 46250 of 52152\n",
      "Processed 46500 of 52152\n",
      "Processed 46750 of 52152\n",
      "Processed 47000 of 52152\n",
      "Processed 47250 of 52152\n",
      "Processed 47500 of 52152\n",
      "Processed 47750 of 52152\n",
      "Processed 48000 of 52152\n",
      "Processed 48250 of 52152\n",
      "Processed 48500 of 52152\n",
      "Processed 48750 of 52152\n",
      "Processed 49000 of 52152\n",
      "Processed 49250 of 52152\n",
      "Processed 49500 of 52152\n",
      "Processed 49750 of 52152\n",
      "Processed 50000 of 52152\n",
      "Processed 50250 of 52152\n",
      "Processed 50500 of 52152\n",
      "Processed 50750 of 52152\n",
      "Processed 51000 of 52152\n",
      "Processed 51250 of 52152\n",
      "Processed 51500 of 52152\n",
      "Processed 51750 of 52152\n",
      "Processed 52000 of 52152\n",
      "Done with all images!\n"
     ]
    }
   ],
   "source": [
    "# X 데이터 전처리\n",
    "\n",
    "ocr = df[df.columns[6:]].as_matrix()\n",
    "ocr = ocr.reshape(len(ocr),16,8).astype(np.uint8)\n",
    "count = len(ocr)\n",
    "ROWS = 28\n",
    "COLS = 28\n",
    "CHANNELS = 1\n",
    "X = np.ndarray((count, ROWS, COLS, CHANNELS), dtype=np.uint8)\n",
    "for i in range(count):\n",
    "    img = scipy.misc.imresize(ocr[i], (28,28), interp='cubic')\n",
    "    img = img.reshape(ROWS,COLS,CHANNELS)\n",
    "    if i%250 == 0: print('Processed {} of {}'.format(i, count))\n",
    "    X[i] = img\n",
    "print(\"Done with all images!\")"
   ]
  },
  {
   "cell_type": "code",
   "execution_count": 5,
   "metadata": {
    "collapsed": true
   },
   "outputs": [],
   "source": [
    "X =  X / 255.0 # normalzing"
   ]
  },
  {
   "cell_type": "code",
   "execution_count": 6,
   "metadata": {
    "collapsed": true
   },
   "outputs": [],
   "source": [
    "# Y 데이터 전처리\n",
    "\n",
    "y = [ord(i)-97 for i in df['letter']]\n",
    "y = to_categorical(y, num_classes = 26)\n"
   ]
  },
  {
   "cell_type": "markdown",
   "metadata": {},
   "source": [
    "# Train data와 Validation data로 나누기\n",
    "\n",
    "33%의 데이터를 augmented data를 검증하는 데 사용하고 나머지는 augment한다.\n",
    "random state를 42로 고정하여 다시 나눌 때도 같은 결과가 나오게 하여 데이터가 일관되게 한다.\n",
    "\n"
   ]
  },
  {
   "cell_type": "code",
   "execution_count": 7,
   "metadata": {
    "scrolled": true
   },
   "outputs": [
    {
     "data": {
      "image/png": "[encoded data removed]",
      "text/plain": [
       "<matplotlib.figure.Figure at 0x127da2550>"
      ]
     },
     "metadata": {},
     "output_type": "display_data"
    },
    {
     "name": "stdout",
     "output_type": "stream",
     "text": [
      "[ 0.  0.  0.  0.  0.  0.  0.  0.  0.  0.  0.  0.  1.  0.  0.  0.  0.  0.\n",
      "  0.  0.  0.  0.  0.  0.  0.  0.]\n"
     ]
    }
   ],
   "source": [
    "# train 데이터와 validation 데이터 나누기\n",
    "X_train, X_val, y_train, y_val = train_test_split(X, y, test_size=0.33, random_state=42)\n",
    "\n",
    "\n",
    "# 나눠진 데이터 모습\n",
    "g = plt.imshow(X_train[1][:,:,0],  cmap='gist_heat')\n",
    "plt.show(g)\n",
    "print y_train[1]\n"
   ]
  },
  {
   "cell_type": "markdown",
   "metadata": {},
   "source": [
    "# Section 5. CNN\n",
    "## feature로 분류하는 것이 아닌 직관적으로 판단하는 딥러닝 모델 정의하기\n",
    "\n",
    "SVM, k-nn, DecisionTree로 주어진 데이터들의 feature를 가지고 분류하는 머신러닝 모델과 달리\n",
    "CNN은 픽셀들의 값들 만으로 스스로 학습해서 feature를 잡아내 분류하는 딥러닝 모델이다.\n",
    "\n",
    "모델 설계를 위해 keras의 Sequential()을 사용하여 나타내었고 feature가 지워지는 것을 막기 위해 padding 옵션을 Same으로 맞추었다."
   ]
  },
  {
   "cell_type": "code",
   "execution_count": 8,
   "metadata": {
    "collapsed": true
   },
   "outputs": [],
   "source": [
    "model = Sequential()\n",
    "\n",
    "model.add(Conv2D(filters = 32, kernel_size = (5,5),padding = 'Same', \n",
    "                 activation ='relu', input_shape = (28,28,1)))\n",
    "model.add(Conv2D(filters = 32, kernel_size = (5,5),padding = 'Same', \n",
    "                 activation ='relu'))\n",
    "model.add(MaxPool2D(pool_size=(2,2)))\n",
    "model.add(Dropout(0.25))\n",
    "\n",
    "\n",
    "model.add(Conv2D(filters = 64, kernel_size = (3,3),padding = 'Same', \n",
    "                 activation ='relu'))\n",
    "model.add(Conv2D(filters = 64, kernel_size = (3,3),padding = 'Same', \n",
    "                 activation ='relu', name='conv4'))\n",
    "model.add(MaxPool2D(pool_size=(2,2), strides=(2,2)))\n",
    "model.add(Dropout(0.25))\n",
    "\n",
    "\n",
    "model.add(Flatten())\n",
    "model.add(Dense(256, activation = \"relu\"))\n",
    "model.add(Dropout(0.5))\n",
    "model.add(Dense(26, activation = \"softmax\"))\n",
    "\n"
   ]
  },
  {
   "cell_type": "code",
   "execution_count": 9,
   "metadata": {},
   "outputs": [
    {
     "name": "stdout",
     "output_type": "stream",
     "text": [
      "_________________________________________________________________\n",
      "Layer (type)                 Output Shape              Param #   \n",
      "=================================================================\n",
      "conv2d_1 (Conv2D)            (None, 28, 28, 32)        832       \n",
      "_________________________________________________________________\n",
      "conv2d_2 (Conv2D)            (None, 28, 28, 32)        25632     \n",
      "_________________________________________________________________\n",
      "max_pooling2d_1 (MaxPooling2 (None, 14, 14, 32)        0         \n",
      "_________________________________________________________________\n",
      "dropout_1 (Dropout)          (None, 14, 14, 32)        0         \n",
      "_________________________________________________________________\n",
      "conv2d_3 (Conv2D)            (None, 14, 14, 64)        18496     \n",
      "_________________________________________________________________\n",
      "conv4 (Conv2D)               (None, 14, 14, 64)        36928     \n",
      "_________________________________________________________________\n",
      "max_pooling2d_2 (MaxPooling2 (None, 7, 7, 64)          0         \n",
      "_________________________________________________________________\n",
      "dropout_2 (Dropout)          (None, 7, 7, 64)          0         \n",
      "_________________________________________________________________\n",
      "flatten_1 (Flatten)          (None, 3136)              0         \n",
      "_________________________________________________________________\n",
      "dense_1 (Dense)              (None, 256)               803072    \n",
      "_________________________________________________________________\n",
      "dropout_3 (Dropout)          (None, 256)               0         \n",
      "_________________________________________________________________\n",
      "dense_2 (Dense)              (None, 26)                6682      \n",
      "=================================================================\n",
      "Total params: 891,642\n",
      "Trainable params: 891,642\n",
      "Non-trainable params: 0\n",
      "_________________________________________________________________\n"
     ]
    }
   ],
   "source": [
    "# 모델 요약\n",
    "model.summary()"
   ]
  },
  {
   "cell_type": "markdown",
   "metadata": {},
   "source": [
    "# Optimizer와  Callback 설정\n",
    "\n",
    "optimizer는 훈련의 과정을 담당하는 데 아주 중요한 역할을 한다.\n",
    "optimizer는 훈련을 거칠 때마다 loss를 줄이기 위해 훈련 변수들을 바꿔주기 때문이다.\n",
    " "
   ]
  },
  {
   "cell_type": "code",
   "execution_count": 10,
   "metadata": {
    "collapsed": true
   },
   "outputs": [],
   "source": [
    "# 최적자 정의 \n",
    "optimizer = RMSprop(lr=0.001, rho=0.9, epsilon=1e-08, decay=0.0)"
   ]
  },
  {
   "cell_type": "code",
   "execution_count": 11,
   "metadata": {},
   "outputs": [],
   "source": [
    "# 모델 최적자로 컴파일\n",
    "# metrics는 훈련 후에 모델을 평가하기 위한 지표로 사용된다\n",
    "model.compile(optimizer = optimizer , loss = \"categorical_crossentropy\", metrics=[\"accuracy\"]) "
   ]
  },
  {
   "cell_type": "markdown",
   "metadata": {},
   "source": [
    "<img src=\"http://img1.imagilive.com/0717/learningrates.jpg\"> </img>\n",
    "learning rate를 최대한 효율적으로 설정하기 위해 ReduceLROnPlateau class를 사용했다."
   ]
  },
  {
   "cell_type": "code",
   "execution_count": 12,
   "metadata": {
    "collapsed": true
   },
   "outputs": [],
   "source": [
    "# LearningrateReducer 설정하기\n",
    "callbacks = [\n",
    "            ReduceLROnPlateau(monitor='val_acc', # 콜백이 모니터링 하는 값\n",
    "                              patience=3, # 참는 횟수\n",
    "                              verbose=1, # 상태 표시: 높을 수록 자세하다.\n",
    "                              factor=0.5, \n",
    "                              min_lr=0.00001 # 최소 줄어드는 learning rate\n",
    "                             ),\n",
    "            TensorBoard(log_dir='./graph',\n",
    "                        histogram_freq=0,\n",
    "                        write_graph=True,\n",
    "                        write_images=True\n",
    "                       ),\n",
    "            ]"
   ]
  },
  {
   "cell_type": "markdown",
   "metadata": {
    "collapsed": true
   },
   "source": [
    "# Data Augmentation\n",
    "\n",
    "Data Augmentation은 데이터를 변형시켜서 훈련데이터의 양도 늘리고 좀 더 다양한 경우에서 훈련이 가능하게끔 해준다.\n",
    "Data Augmentation을 쓰는 용도로는 2가지가 있다.\n",
    "\n",
    "\n",
    "## 1. 적은 양의 데이터를 훈련시킬 때\n",
    "**구글**이나 **페이스북**만큼 방대한 데이터를 가지고 있지 않아도 풍부한 데이터를 가질 수 있는 방법이 있다.\n",
    "<img src=\"http://file2.instiz.net/data/file2/2015/12/05/8/1/f/81fdcc28ed3e8fb41389fe738c081235.jpg\">\n",
    "<center>**만들면 되는 것이다.**</center>\n",
    "\n",
    "\n",
    "\n",
    "## 2. overfitting을 방지할 때\n",
    "\n",
    "![Still a cat](https://s-media-cache-ak0.pinimg.com/564x/52/cb/44/52cb44e1856d890cf36c711159583f10.jpg)\n",
    "<center>**평소 고양이의 얼굴은 아니지만 고양이라고 인식할 수 있어야 한다.**</center>\n",
    "\n",
    "\n",
    "\n",
    "# keras는 이를 해결하기 위해서 ImageDataGenerator class를 이용한다."
   ]
  },
  {
   "cell_type": "code",
   "execution_count": 13,
   "metadata": {},
   "outputs": [
    {
     "name": "stderr",
     "output_type": "stream",
     "text": [
      "/Users/hyungsukkang/anaconda2/lib/python2.7/site-packages/keras/preprocessing/image.py:648: UserWarning: Expected input to be images (as Numpy array) following the data format convention \"channels_last\" (channels on axis 3), i.e. expected either 1, 3 or 4 channels on axis 3. However, it was passed an array with shape (34941, 28, 28, 1) (1 channels).\n",
      "  ' (' + str(x.shape[self.channel_axis]) + ' channels).')\n"
     ]
    }
   ],
   "source": [
    "datagen = ImageDataGenerator(\n",
    "        featurewise_center=False,  # 모든 입력 데이터 평균이 0이 되게끔 한다.\n",
    "        samplewise_center=False,  # 각각의 입력 데이터 평균이 0이 되게끔 한다.\n",
    "        featurewise_std_normalization=False,  # 입력 데이터들을 데이터의 표준편차로 나눈다.\n",
    "        samplewise_std_normalization=False,  # 각각의 데이터를 전체 데이터의 표준 편차로 나눈다.\n",
    "        zca_whitening=False,  # ZCA Whitening 적용(안에 있는 부분은 하얗게 처리되고 모서리만 돋보이게 하는 효과가 있다.)\n",
    "        rotation_range=10,  # 무작위로 각도 범위 내에서 이미지를 돌린다 (degrees, 0 to 180)\n",
    "        zoom_range = 0.1, # 무작위로 이미지를 확대시킨다\n",
    "        width_shift_range=0.1,  # 무작위로 이미지를 좌우로 지정된 범위만큼 중심을 옮긴다 (전체 너비내의 부분)\n",
    "        height_shift_range=0.1,  # 무작위로 이미지를 위아래로 지정된 범위만큼 중심을 옮긴다 (전체 높이의 부분)\n",
    "        horizontal_flip=False,  # 무작위로 좌우로 뒤집는다\n",
    "        vertical_flip=False)  # 무작위로 위아래로 뒤집는다\n",
    "\n",
    "\n",
    "datagen.fit(X_train)"
   ]
  },
  {
   "cell_type": "code",
   "execution_count": 26,
   "metadata": {
    "collapsed": true
   },
   "outputs": [],
   "source": [
    "# 이미지 미리보기\n",
    "i = 0\n",
    "for batch in datagen.flow(X_train, batch_size=1,\n",
    "                          save_to_dir='preview', save_prefix='letter', save_format='jpeg'):\n",
    "    i += 1\n",
    "    if i > 20:\n",
    "        break  # otherwise the generator would loop indefinitely"
   ]
  },
  {
   "cell_type": "code",
   "execution_count": 14,
   "metadata": {
    "collapsed": true
   },
   "outputs": [],
   "source": [
    "# 트레이닝 세팅 \n",
    "epochs = 2 # 반복횟수\n",
    "batch_size = 128 # batch size"
   ]
  },
  {
   "cell_type": "code",
   "execution_count": 15,
   "metadata": {},
   "outputs": [
    {
     "name": "stdout",
     "output_type": "stream",
     "text": [
      "Epoch 1/2\n",
      "380s - loss: 2.5071 - acc: 0.2576 - val_loss: 1.1452 - val_acc: 0.6656\n",
      "Epoch 2/2\n",
      "489s - loss: 1.3080 - acc: 0.6121 - val_loss: 0.6477 - val_acc: 0.8127\n"
     ]
    }
   ],
   "source": [
    "# generator와 함께 모델을 훈련!\n",
    "history = model.fit_generator(datagen.flow(X_train,y_train, batch_size=batch_size),\n",
    "                              epochs = epochs, validation_data = (X_val,y_val),\n",
    "                              verbose = 2, steps_per_epoch=X_train.shape[0] // batch_size\n",
    "                              , callbacks=callbacks)"
   ]
  },
  {
   "cell_type": "markdown",
   "metadata": {},
   "source": [
    "# Section 6. 모델 평가\n",
    "\n",
    "모델을 훈련시키고 난 뒤 정작 이 모델이 잘 돌아가는 지 확인을 하지 않는다면 당신의 모델의 성능은 향상되지 않을 것이다.\n",
    "이를 평가하기 위한 방법과 원인을 찾는 방법을 제시하고자 한다."
   ]
  },
  {
   "cell_type": "markdown",
   "metadata": {},
   "source": [
    "## 모델 훈련 과정 살펴보기\n",
    "\n"
   ]
  },
  {
   "cell_type": "code",
   "execution_count": 51,
   "metadata": {},
   "outputs": [
    {
     "data": {
      "image/png": "[encoded data removed]",
      "text/plain": [
       "<matplotlib.figure.Figure at 0x13a06fbd0>"
      ]
     },
     "metadata": {},
     "output_type": "display_data"
    }
   ],
   "source": [
    "# Plot the loss and accuracy curves for training and validation \n",
    "fig, ax = plt.subplots(2,1)\n",
    "ax[0].plot(history.history['loss'], color='b', label=\"Training loss\")\n",
    "ax[0].plot(history.history['val_loss'], color='r', label=\"validation loss\",axes =ax[0])\n",
    "legend = ax[0].legend(loc='best', shadow=True)\n",
    "\n",
    "ax[1].plot(history.history['acc'], color='b', label=\"Training accuracy\")\n",
    "ax[1].plot(history.history['val_acc'], color='r',label=\"Validation accuracy\")\n",
    "legend = ax[1].legend(loc='best', shadow=True)"
   ]
  },
  {
   "cell_type": "code",
   "execution_count": 22,
   "metadata": {},
   "outputs": [
    {
     "data": {
      "image/png": "[encoded data removed]",
      "text/plain": [
       "<matplotlib.figure.Figure at 0x15c84fb50>"
      ]
     },
     "metadata": {},
     "output_type": "display_data"
    },
    {
     "name": "stdout",
     "output_type": "stream",
     "text": [
      "[ 1.  0.  0.  0.  0.  0.  0.  0.  0.  0.  0.  0.  0.  0.  0.  0.  0.  0.\n",
      "  0.  0.  0.  0.  0.  0.  0.  0.]\n"
     ]
    },
    {
     "data": {
      "image/png": "[encoded data removed]",
      "text/plain": [
       "<matplotlib.figure.Figure at 0x15b45f310>"
      ]
     },
     "metadata": {},
     "output_type": "display_data"
    }
   ],
   "source": [
    "from vis.visualization import visualize_saliency\n",
    "from vis.utils import utils\n",
    "from keras import activations\n",
    "class_idx = 0\n",
    "# Utility to search for layer index by name. \n",
    "# Alternatively we can specify this as -1 since it corresponds to the last layer.\n",
    "layer_idx = utils.find_layer_idx(model, 'conv4')\n",
    "\n",
    "# Swap softmax with linear\n",
    "model.layers[layer_idx].activation = activations.linear\n",
    "model = utils.apply_modifications(model)\n",
    "\n",
    "heatmap = visualize_saliency(model, layer_idx, filter_indices=class_idx, seed_input=X_train[9])\n",
    "g = plt.imshow(X_train[9][:,:,0],  cmap='gist_heat')\n",
    "plt.show(g)\n",
    "plt.imshow(heatmap)\n",
    "print(y_train[9])"
   ]
  },
  {
   "cell_type": "code",
   "execution_count": null,
   "metadata": {
    "collapsed": true
   },
   "outputs": [],
   "source": []
  },
  {
   "cell_type": "code",
   "execution_count": 87,
   "metadata": {},
   "outputs": [
    {
     "data": {
      "image/png": "[encoded data removed]",
      "text/plain": [
       "<matplotlib.figure.Figure at 0x113e1a410>"
      ]
     },
     "metadata": {},
     "output_type": "display_data"
    }
   ],
   "source": [
    "# Look at confusion matrix \n",
    "\n",
    "def plot_confusion_matrix(cm, classes,\n",
    "                          normalize=False,\n",
    "                          title='Confusion matrix',\n",
    "                          cmap=plt.cm.Blues):\n",
    "    \"\"\"\n",
    "    This function prints and plots the confusion matrix.\n",
    "    Normalization can be applied by setting `normalize=True`.\n",
    "    \"\"\"\n",
    "    plt.imshow(cm, interpolation='nearest', cmap=cmap)\n",
    "    plt.title(title)\n",
    "    plt.colorbar()\n",
    "    tick_marks = np.arange(len(classes))\n",
    "    plt.xticks(tick_marks, classes, rotation=45)\n",
    "    plt.yticks(tick_marks, classes)\n",
    "\n",
    "    if normalize:\n",
    "        cm = cm.astype('float') / cm.sum(axis=1)[:, np.newaxis]\n",
    "\n",
    "    thresh = cm.max() / 2.\n",
    "    for i, j in itertools.product(range(cm.shape[0]), range(cm.shape[1])):\n",
    "        plt.text(j, i, cm[i, j],\n",
    "                 horizontalalignment=\"center\",\n",
    "                 color=\"white\" if cm[i, j] > thresh else \"black\")\n",
    "\n",
    "    plt.tight_layout()\n",
    "    plt.ylabel('True label')\n",
    "    plt.xlabel('Predicted label')\n",
    "\n",
    "alphabet = []\n",
    "for letter in range(97,123):\n",
    "    alphabet.append(chr(letter))\n",
    "# Predict the values from the validation dataset\n",
    "y_pred = model.predict(X_val)\n",
    "# Convert predictions classes to one hot vectors \n",
    "y_pred_classes = np.argmax(y_pred,axis = 1) \n",
    "# Convert validation observations to one hot vectors\n",
    "y_true = np.argmax(y_val,axis = 1) \n",
    "# compute the confusion matrix\n",
    "confusion_mtx = confusion_matrix(y_true, y_pred_classes) \n",
    "# plot the confusion matrix\n",
    "plot_confusion_matrix(confusion_mtx, classes = alphabet) "
   ]
  },
  {
   "cell_type": "markdown",
   "metadata": {},
   "source": [
    "# CoreML model로 만들기"
   ]
  },
  {
   "cell_type": "code",
   "execution_count": 89,
   "metadata": {
    "collapsed": true
   },
   "outputs": [],
   "source": [
    "from keras import models\n",
    "models.save_model(model,'ocr_cnn_keras.h5')"
   ]
  },
  {
   "cell_type": "code",
   "execution_count": 96,
   "metadata": {},
   "outputs": [
    {
     "ename": "IOError",
     "evalue": "Unable to open file (Unable to open file: name = 'ocr_cnn_keras.h5', errno = 2, error message = 'no such file or directory', flags = 0, o_flags = 0)",
     "output_type": "error",
     "traceback": [
      "\u001b[0;31m---------------------------------------------------------------------------\u001b[0m",
      "\u001b[0;31mIOError\u001b[0m                                   Traceback (most recent call last)",
      "\u001b[0;32m<ipython-input-96-ee136fc76a09>\u001b[0m in \u001b[0;36m<module>\u001b[0;34m()\u001b[0m\n\u001b[1;32m      8\u001b[0m                                                    \u001b[0moutput_names\u001b[0m\u001b[0;34m=\u001b[0m\u001b[0;34m'output'\u001b[0m\u001b[0;34m,\u001b[0m\u001b[0;34m\u001b[0m\u001b[0m\n\u001b[1;32m      9\u001b[0m                                                    \u001b[0mclass_labels\u001b[0m\u001b[0;34m=\u001b[0m\u001b[0moutput_labels\u001b[0m\u001b[0;34m,\u001b[0m\u001b[0;34m\u001b[0m\u001b[0m\n\u001b[0;32m---> 10\u001b[0;31m                                                    image_scale=scale)\n\u001b[0m\u001b[1;32m     11\u001b[0m \u001b[0mcoreml_model\u001b[0m\u001b[0;34m.\u001b[0m\u001b[0mauthor\u001b[0m \u001b[0;34m=\u001b[0m \u001b[0;34m'Hyungsuk Kang'\u001b[0m\u001b[0;34m\u001b[0m\u001b[0m\n\u001b[1;32m     12\u001b[0m \u001b[0mcoreml_model\u001b[0m\u001b[0;34m.\u001b[0m\u001b[0mlicense\u001b[0m \u001b[0;34m=\u001b[0m \u001b[0;34m'MIT'\u001b[0m\u001b[0;34m\u001b[0m\u001b[0m\n",
      "\u001b[0;32m/Users/hyungsukkang/anaconda2/lib/python2.7/site-packages/coremltools/converters/keras/_keras_converter.pyc\u001b[0m in \u001b[0;36mconvert\u001b[0;34m(model, input_names, output_names, image_input_names, is_bgr, red_bias, green_bias, blue_bias, gray_bias, image_scale, class_labels, predicted_feature_name)\u001b[0m\n\u001b[1;32m    475\u001b[0m                                    \u001b[0mimage_scale\u001b[0m \u001b[0;34m=\u001b[0m \u001b[0mimage_scale\u001b[0m\u001b[0;34m,\u001b[0m\u001b[0;34m\u001b[0m\u001b[0m\n\u001b[1;32m    476\u001b[0m                                    \u001b[0mclass_labels\u001b[0m \u001b[0;34m=\u001b[0m \u001b[0mclass_labels\u001b[0m\u001b[0;34m,\u001b[0m\u001b[0;34m\u001b[0m\u001b[0m\n\u001b[0;32m--> 477\u001b[0;31m                                    predicted_feature_name = predicted_feature_name)\n\u001b[0m\u001b[1;32m    478\u001b[0m     \u001b[0;32melse\u001b[0m\u001b[0;34m:\u001b[0m\u001b[0;34m\u001b[0m\u001b[0m\n\u001b[1;32m    479\u001b[0m         \u001b[0;32mraise\u001b[0m \u001b[0mRuntimeError\u001b[0m\u001b[0;34m(\u001b[0m\u001b[0;34m'keras not found or unsupported version or backend found. keras conversion API is disabled.'\u001b[0m\u001b[0;34m)\u001b[0m\u001b[0;34m\u001b[0m\u001b[0m\n",
      "\u001b[0;32m/Users/hyungsukkang/anaconda2/lib/python2.7/site-packages/coremltools/converters/keras/_keras2_converter.pyc\u001b[0m in \u001b[0;36m_convert\u001b[0;34m(model, input_names, output_names, image_input_names, is_bgr, red_bias, green_bias, blue_bias, gray_bias, image_scale, class_labels, predicted_feature_name)\u001b[0m\n\u001b[1;32m    147\u001b[0m \u001b[0;34m\u001b[0m\u001b[0m\n\u001b[1;32m    148\u001b[0m     \u001b[0;32mif\u001b[0m \u001b[0misinstance\u001b[0m\u001b[0;34m(\u001b[0m\u001b[0mmodel\u001b[0m\u001b[0;34m,\u001b[0m \u001b[0mbasestring\u001b[0m\u001b[0;34m)\u001b[0m\u001b[0;34m:\u001b[0m\u001b[0;34m\u001b[0m\u001b[0m\n\u001b[0;32m--> 149\u001b[0;31m         \u001b[0mmodel\u001b[0m \u001b[0;34m=\u001b[0m \u001b[0m_keras\u001b[0m\u001b[0;34m.\u001b[0m\u001b[0mmodels\u001b[0m\u001b[0;34m.\u001b[0m\u001b[0mload_model\u001b[0m\u001b[0;34m(\u001b[0m\u001b[0mmodel\u001b[0m\u001b[0;34m)\u001b[0m\u001b[0;34m\u001b[0m\u001b[0m\n\u001b[0m\u001b[1;32m    150\u001b[0m     \u001b[0;32melif\u001b[0m \u001b[0misinstance\u001b[0m\u001b[0;34m(\u001b[0m\u001b[0mmodel\u001b[0m\u001b[0;34m,\u001b[0m \u001b[0mtuple\u001b[0m\u001b[0;34m)\u001b[0m\u001b[0;34m:\u001b[0m\u001b[0;34m\u001b[0m\u001b[0m\n\u001b[1;32m    151\u001b[0m         \u001b[0mmodel\u001b[0m \u001b[0;34m=\u001b[0m \u001b[0m_load_keras_model\u001b[0m\u001b[0;34m(\u001b[0m\u001b[0mmodel\u001b[0m\u001b[0;34m[\u001b[0m\u001b[0;36m0\u001b[0m\u001b[0;34m]\u001b[0m\u001b[0;34m,\u001b[0m \u001b[0mmodel\u001b[0m\u001b[0;34m[\u001b[0m\u001b[0;36m1\u001b[0m\u001b[0;34m]\u001b[0m\u001b[0;34m)\u001b[0m\u001b[0;34m\u001b[0m\u001b[0m\n",
      "\u001b[0;32m/Users/hyungsukkang/anaconda2/lib/python2.7/site-packages/keras/models.pyc\u001b[0m in \u001b[0;36mload_model\u001b[0;34m(filepath, custom_objects, compile)\u001b[0m\n\u001b[1;32m    238\u001b[0m             \u001b[0;32mreturn\u001b[0m \u001b[0mcustom_objects\u001b[0m\u001b[0;34m[\u001b[0m\u001b[0mobj\u001b[0m\u001b[0;34m]\u001b[0m\u001b[0;34m\u001b[0m\u001b[0m\n\u001b[1;32m    239\u001b[0m         \u001b[0;32mreturn\u001b[0m \u001b[0mobj\u001b[0m\u001b[0;34m\u001b[0m\u001b[0m\n\u001b[0;32m--> 240\u001b[0;31m     \u001b[0;32mwith\u001b[0m \u001b[0mh5py\u001b[0m\u001b[0;34m.\u001b[0m\u001b[0mFile\u001b[0m\u001b[0;34m(\u001b[0m\u001b[0mfilepath\u001b[0m\u001b[0;34m,\u001b[0m \u001b[0mmode\u001b[0m\u001b[0;34m=\u001b[0m\u001b[0;34m'r'\u001b[0m\u001b[0;34m)\u001b[0m \u001b[0;32mas\u001b[0m \u001b[0mf\u001b[0m\u001b[0;34m:\u001b[0m\u001b[0;34m\u001b[0m\u001b[0m\n\u001b[0m\u001b[1;32m    241\u001b[0m         \u001b[0;31m# instantiate model\u001b[0m\u001b[0;34m\u001b[0m\u001b[0;34m\u001b[0m\u001b[0m\n\u001b[1;32m    242\u001b[0m         \u001b[0mmodel_config\u001b[0m \u001b[0;34m=\u001b[0m \u001b[0mf\u001b[0m\u001b[0;34m.\u001b[0m\u001b[0mattrs\u001b[0m\u001b[0;34m.\u001b[0m\u001b[0mget\u001b[0m\u001b[0;34m(\u001b[0m\u001b[0;34m'model_config'\u001b[0m\u001b[0;34m)\u001b[0m\u001b[0;34m\u001b[0m\u001b[0m\n",
      "\u001b[0;32m/Users/hyungsukkang/anaconda2/lib/python2.7/site-packages/h5py/_hl/files.pyc\u001b[0m in \u001b[0;36m__init__\u001b[0;34m(self, name, mode, driver, libver, userblock_size, swmr, **kwds)\u001b[0m\n\u001b[1;32m    269\u001b[0m \u001b[0;34m\u001b[0m\u001b[0m\n\u001b[1;32m    270\u001b[0m                 \u001b[0mfapl\u001b[0m \u001b[0;34m=\u001b[0m \u001b[0mmake_fapl\u001b[0m\u001b[0;34m(\u001b[0m\u001b[0mdriver\u001b[0m\u001b[0;34m,\u001b[0m \u001b[0mlibver\u001b[0m\u001b[0;34m,\u001b[0m \u001b[0;34m**\u001b[0m\u001b[0mkwds\u001b[0m\u001b[0;34m)\u001b[0m\u001b[0;34m\u001b[0m\u001b[0m\n\u001b[0;32m--> 271\u001b[0;31m                 \u001b[0mfid\u001b[0m \u001b[0;34m=\u001b[0m \u001b[0mmake_fid\u001b[0m\u001b[0;34m(\u001b[0m\u001b[0mname\u001b[0m\u001b[0;34m,\u001b[0m \u001b[0mmode\u001b[0m\u001b[0;34m,\u001b[0m \u001b[0muserblock_size\u001b[0m\u001b[0;34m,\u001b[0m \u001b[0mfapl\u001b[0m\u001b[0;34m,\u001b[0m \u001b[0mswmr\u001b[0m\u001b[0;34m=\u001b[0m\u001b[0mswmr\u001b[0m\u001b[0;34m)\u001b[0m\u001b[0;34m\u001b[0m\u001b[0m\n\u001b[0m\u001b[1;32m    272\u001b[0m \u001b[0;34m\u001b[0m\u001b[0m\n\u001b[1;32m    273\u001b[0m                 \u001b[0;32mif\u001b[0m \u001b[0mswmr_support\u001b[0m\u001b[0;34m:\u001b[0m\u001b[0;34m\u001b[0m\u001b[0m\n",
      "\u001b[0;32m/Users/hyungsukkang/anaconda2/lib/python2.7/site-packages/h5py/_hl/files.pyc\u001b[0m in \u001b[0;36mmake_fid\u001b[0;34m(name, mode, userblock_size, fapl, fcpl, swmr)\u001b[0m\n\u001b[1;32m     99\u001b[0m         \u001b[0;32mif\u001b[0m \u001b[0mswmr\u001b[0m \u001b[0;32mand\u001b[0m \u001b[0mswmr_support\u001b[0m\u001b[0;34m:\u001b[0m\u001b[0;34m\u001b[0m\u001b[0m\n\u001b[1;32m    100\u001b[0m             \u001b[0mflags\u001b[0m \u001b[0;34m|=\u001b[0m \u001b[0mh5f\u001b[0m\u001b[0;34m.\u001b[0m\u001b[0mACC_SWMR_READ\u001b[0m\u001b[0;34m\u001b[0m\u001b[0m\n\u001b[0;32m--> 101\u001b[0;31m         \u001b[0mfid\u001b[0m \u001b[0;34m=\u001b[0m \u001b[0mh5f\u001b[0m\u001b[0;34m.\u001b[0m\u001b[0mopen\u001b[0m\u001b[0;34m(\u001b[0m\u001b[0mname\u001b[0m\u001b[0;34m,\u001b[0m \u001b[0mflags\u001b[0m\u001b[0;34m,\u001b[0m \u001b[0mfapl\u001b[0m\u001b[0;34m=\u001b[0m\u001b[0mfapl\u001b[0m\u001b[0;34m)\u001b[0m\u001b[0;34m\u001b[0m\u001b[0m\n\u001b[0m\u001b[1;32m    102\u001b[0m     \u001b[0;32melif\u001b[0m \u001b[0mmode\u001b[0m \u001b[0;34m==\u001b[0m \u001b[0;34m'r+'\u001b[0m\u001b[0;34m:\u001b[0m\u001b[0;34m\u001b[0m\u001b[0m\n\u001b[1;32m    103\u001b[0m         \u001b[0mfid\u001b[0m \u001b[0;34m=\u001b[0m \u001b[0mh5f\u001b[0m\u001b[0;34m.\u001b[0m\u001b[0mopen\u001b[0m\u001b[0;34m(\u001b[0m\u001b[0mname\u001b[0m\u001b[0;34m,\u001b[0m \u001b[0mh5f\u001b[0m\u001b[0;34m.\u001b[0m\u001b[0mACC_RDWR\u001b[0m\u001b[0;34m,\u001b[0m \u001b[0mfapl\u001b[0m\u001b[0;34m=\u001b[0m\u001b[0mfapl\u001b[0m\u001b[0;34m)\u001b[0m\u001b[0;34m\u001b[0m\u001b[0m\n",
      "\u001b[0;32mh5py/_objects.pyx\u001b[0m in \u001b[0;36mh5py._objects.with_phil.wrapper (/Users/ilan/minonda/conda-bld/h5py_1490026561416/work/h5py/_objects.c:2846)\u001b[0;34m()\u001b[0m\n",
      "\u001b[0;32mh5py/_objects.pyx\u001b[0m in \u001b[0;36mh5py._objects.with_phil.wrapper (/Users/ilan/minonda/conda-bld/h5py_1490026561416/work/h5py/_objects.c:2804)\u001b[0;34m()\u001b[0m\n",
      "\u001b[0;32mh5py/h5f.pyx\u001b[0m in \u001b[0;36mh5py.h5f.open (/Users/ilan/minonda/conda-bld/h5py_1490026561416/work/h5py/h5f.c:2123)\u001b[0;34m()\u001b[0m\n",
      "\u001b[0;31mIOError\u001b[0m: Unable to open file (Unable to open file: name = 'ocr_cnn_keras.h5', errno = 2, error message = 'no such file or directory', flags = 0, o_flags = 0)"
     ]
    }
   ],
   "source": [
    "import coremltools\n",
    "\n",
    "output_labels = alphabet\n",
    "scale = 1/255.\n",
    "coreml_model = coremltools.converters.keras.convert('ocr_cnn_keras.h5',\n",
    "                                                   input_names='image',\n",
    "                                                   image_input_names='image',\n",
    "                                                   output_names='output',\n",
    "                                                   class_labels=output_labels,\n",
    "                                                   image_scale=scale)\n",
    "coreml_model.author = 'Hyungsuk Kang'\n",
    "coreml_model.license = 'MIT'\n",
    "coreml_model.short_description = 'Model to classify alphabet letters'\n",
    "\n",
    "coreml_model.input_description['image'] = 'Grayscale image of alphabet'\n",
    "coreml_model.output_description['output'] = 'Category of the alphabet'\n",
    "\n",
    "coreml_model.save('Letters.mlmodel')"
   ]
  },
  {
   "cell_type": "code",
   "execution_count": null,
   "metadata": {
    "collapsed": true
   },
   "outputs": [],
   "source": []
  }
 ],
 "metadata": {
  "kernelspec": {
   "display_name": "Python 2",
   "language": "python",
   "name": "python2"
  },
  "language_info": {
   "codemirror_mode": {
    "name": "ipython",
    "version": 2
   },
   "file_extension": ".py",
   "mimetype": "text/x-python",
   "name": "python",
   "nbconvert_exporter": "python",
   "pygments_lexer": "ipython2",
   "version": "2.7.13"
  }
 },
 "nbformat": 4,
 "nbformat_minor": 2
}
